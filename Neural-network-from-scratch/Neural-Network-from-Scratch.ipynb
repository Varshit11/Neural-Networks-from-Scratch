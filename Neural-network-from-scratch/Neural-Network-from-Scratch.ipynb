{
 "cells": [
  {
   "cell_type": "code",
   "execution_count": 1,
   "metadata": {},
   "outputs": [],
   "source": [
    "# we will implement neural network from scratch..\n",
    "# importing the libraries..\n",
    "import numpy as np"
   ]
  },
  {
   "cell_type": "code",
   "execution_count": null,
   "metadata": {},
   "outputs": [],
   "source": [
    "# num_layers = total no. of layers in neural network.\n",
    "# num_neurons = it is an list which contains the no. of neurons in each layer. Its length is one more than num_layers..\n",
    "# num_features = it is the no. of features in the training data\n",
    "# m = it is the no. of training examples.\n",
    "class Neuralnetwork:\n",
    "    def __init__(self, num_layers, num_neurons, num_features, m):\n",
    "        self.num_layers = num_layers\n",
    "        self.num_neurons = num_neurons\n",
    "        self.Nx = num_features\n",
    "        self.m = m\n",
    "        self.W = [np.random.randn(self.num_neurons[0], 1)]\n",
    "        self.dw = [np.random.randn(self.num_neurons[0], 1)]\n",
    "        self.b = []\n",
    "        self.db = []\n",
    "        self.Z = [np.random.randn(self.num_neurons[0], 1)]\n",
    "        self.A = [np.random.randn(self.num_neurons[0], self.m)]\n",
    "        self.dZ =  [np.random.randn(self.num_neurons[0], 1)]\n",
    "        self.dA = [np.random.randn(self.num_neurons[0], self.m)]\n",
    "\n",
    "        for i in range(len(self.num_neurons)-1):\n",
    "            temp_w = np.random.randn(self.num_neurons[i+1], self.num_neurons[i])\n",
    "            temp_b = np.zeros([self.num_neurons[i+1], 1])\n",
    "            self.W.append(temp_w)\n",
    "            self.b.append(temp_b)\n",
    "\n",
    "            # not sure of below code, will check\n",
    "            self.dw.append(temp_w)\n",
    "            self.db.append(temp_b)\n",
    "            self.Z.append(np.random.randn(self.num_neurons[i+1], self.m))\n",
    "            self.dZ.append(np.random.randn(self.num_neurons[i+1], self.m))\n",
    "            self.A.append(np.random.randn(self.num_neurons[i+1], self.m))\n",
    "            self.dA.append(np.random.randn(self.num_neurons[i+1], self.m))\n",
    "#         self.A.append(np.random.randn(self.num_neurons[-1], self.m))\n",
    "        \n",
    "    def sigmoid(self, z):\n",
    "        return(1/(1+np.exp(-z)))\n",
    "    \n",
    "    def derivative_sigmoid(self, z):\n",
    "        return(sigmoid(z)*(1-sigmoid(z)))\n",
    "    \n",
    "    def forward(self, X):\n",
    "        self.A[0] = X\n",
    "        for i in range(1, len(self.num_neurons)):\n",
    "            self.Z[i] = np.dot(self.W[i], self.A[i-1])\n",
    "            self.A[i] = sigmoid(self.Z[i])\n",
    "    \n",
    "    def backprop(self, Y):\n",
    "        self.dZ[len(self.num_neurons)-1] = self.A[len(self.num_neurons)-1] - Y\n",
    "        self.dW[len(self.num_neurons)-1] = np.dot(dZ[len(self.num_neurons)-1], )\n",
    "        for i in range(len(self.num_neurons)-1, 0, -1):\n",
    "            self.dZ[i] = np.dot(self.dA[i])\n",
    "          \n",
    "        \n",
    "        \n",
    "        \n",
    "            \n",
    "            "
   ]
  }
 ],
 "metadata": {
  "kernelspec": {
   "display_name": "Python 3",
   "language": "python",
   "name": "python3"
  },
  "language_info": {
   "codemirror_mode": {
    "name": "ipython",
    "version": 3
   },
   "file_extension": ".py",
   "mimetype": "text/x-python",
   "name": "python",
   "nbconvert_exporter": "python",
   "pygments_lexer": "ipython3",
   "version": "3.6.8"
  }
 },
 "nbformat": 4,
 "nbformat_minor": 2
}
